{
  "nbformat": 4,
  "nbformat_minor": 0,
  "metadata": {
    "colab": {
      "provenance": []
    },
    "kernelspec": {
      "name": "python3",
      "display_name": "Python 3"
    },
    "language_info": {
      "name": "python"
    }
  },
  "cells": [
    {
      "cell_type": "code",
      "execution_count": 2,
      "metadata": {
        "id": "494xYeF9MRUF"
      },
      "outputs": [],
      "source": [
        "import numpy as np\n",
        "import matplotlib.pyplot as plt\n",
        "from sklearn import datasets"
      ]
    },
    {
      "cell_type": "code",
      "source": [
        "#ニューロンへの入力を実施\n",
        "#ニューロン\n",
        "class Neuron:\n",
        "  def __init__(self):\n",
        "    self.input_sum = 0.0\n",
        "\n",
        "  def set_input(self,inp):\n",
        "    self.input_sum += inp\n",
        "    print(self.input_sum)\n",
        "\n",
        "#ニューラルネットワーク\n",
        "class NeuralNetwork:\n",
        "  def __init__(self):\n",
        "    self.neuron = Neuron()\n",
        "\n",
        "  def commit(self,input_data):\n",
        "    for data in input_data:\n",
        "      self.neuron.set_input(data)\n",
        "\n",
        "neural_network = NeuralNetwork()\n",
        "\n",
        "input_data = [1.0,2.0,3.0]\n",
        "neural_network.commit(input_data)"
      ],
      "metadata": {
        "colab": {
          "base_uri": "https://localhost:8080/"
        },
        "id": "yZa8WkkWQWxl",
        "outputId": "ea75b17e-2868-4ea1-eebc-539b615e0bbc"
      },
      "execution_count": 7,
      "outputs": [
        {
          "output_type": "stream",
          "name": "stdout",
          "text": [
            "1.0\n",
            "3.0\n",
            "6.0\n"
          ]
        }
      ]
    },
    {
      "cell_type": "code",
      "source": [
        "#ニューロンからの出力\n",
        "#ニューロン\n",
        "class Neuron:\n",
        "  def __init__(self):\n",
        "    self.input_sum = 0.0\n",
        "\n",
        "  def set_input(self,inp):\n",
        "    self.input_sum += inp\n",
        "\n",
        "  def get_output(self):\n",
        "    self.output = self.input_sum\n",
        "    return self.output\n",
        "\n",
        "#ニューラルネットワーク\n",
        "class NeuralNetwork:\n",
        "  def __init__(self):\n",
        "    self.neuron = Neuron()\n",
        "\n",
        "  def commit(self,input_data):\n",
        "    for data in input_data:\n",
        "      self.neuron.set_input(data)\n",
        "    return self.neuron.get_output()\n",
        "\n",
        "neural_network = NeuralNetwork()\n",
        "\n",
        "input_data = [1.0,2.0,3.0]\n",
        "neural_network.commit(input_data)"
      ],
      "metadata": {
        "colab": {
          "base_uri": "https://localhost:8080/"
        },
        "id": "0ny6ceYqRIle",
        "outputId": "a86b1f9f-faa8-443e-ce59-0a0246e6d97e"
      },
      "execution_count": 5,
      "outputs": [
        {
          "output_type": "execute_result",
          "data": {
            "text/plain": [
              "6.0"
            ]
          },
          "metadata": {},
          "execution_count": 5
        }
      ]
    },
    {
      "cell_type": "code",
      "source": [
        "#活性化関数の導入\n",
        "\n",
        "def sigmoid(x):\n",
        "  return 1.0 / (1.0 + np.exp(-x))\n",
        "\n",
        "class Neuron:\n",
        "  def __init__(self):\n",
        "    self.input_sum = 0.0\n",
        "    self.output = 0.0\n",
        "\n",
        "  def set_input(self,inp):\n",
        "    self.input_sum += inp\n",
        "\n",
        "  def get_output(self):\n",
        "    self.output = self.input_sum\n",
        "    return self.output\n",
        "\n",
        "#ニューラルネットワーク\n",
        "class NeuralNetwork:\n",
        "  def __init__(self):\n",
        "    self.neuron = Neuron()\n",
        "\n",
        "  def commit(self,input_data):\n",
        "    for data in input_data:\n",
        "      self.neuron.set_input(data)\n",
        "    return self.neuron.get_output()\n",
        "\n",
        "input_data = [1.0, 2.0, 3.0]\n",
        "print(neural_network.commit(input_data))"
      ],
      "metadata": {
        "colab": {
          "base_uri": "https://localhost:8080/"
        },
        "id": "QebCXbFiSGsW",
        "outputId": "b627caaf-a785-49ff-fd21-c409a804dea2"
      },
      "execution_count": 9,
      "outputs": [
        {
          "output_type": "stream",
          "name": "stdout",
          "text": [
            "13.0\n",
            "15.0\n",
            "18.0\n",
            "None\n"
          ]
        }
      ]
    },
    {
      "cell_type": "code",
      "source": [
        "# シグモイド関数\n",
        "def sigmoid(x):\n",
        "    return 1.0 / (1.0 + np.exp(-x))\n",
        "\n",
        "# ニューロン\n",
        "class Neuron:\n",
        "    def __init__(self):  # 初期設定\n",
        "        self.input_sum = 0.0\n",
        "        self.output = 0.0\n",
        "\n",
        "    def set_input(self, inp):\n",
        "        self.input_sum += inp\n",
        "\n",
        "    def get_output(self):\n",
        "        self.output = sigmoid(self.input_sum)\n",
        "        return self.output\n",
        "\n",
        "# ニューラルネットワーク\n",
        "class NeuralNetwork:\n",
        "    def __init__(self):  # 初期設定\n",
        "        self.neuron = Neuron()  #ニューロンのインスタンス\n",
        "        self.w = [1.5, 0.75, -1.0]\n",
        "\n",
        "    def commit(self, input_data):  # 実行\n",
        "        self.neuron.set_input(input_data[0] * self.w[0])\n",
        "        self.neuron.set_input(input_data[1] * self.w[1])\n",
        "        self.neuron.set_input(input_data[2] * self.w[2])\n",
        "        return self.neuron.get_output()\n",
        "\n",
        "# ニューラルネットワークのインスタンス\n",
        "neural_network = NeuralNetwork()\n",
        "\n",
        "# 実行\n",
        "input_data = [1.0, 2.0, 3.0]\n",
        "print(neural_network.commit(input_data))"
      ],
      "metadata": {
        "colab": {
          "base_uri": "https://localhost:8080/"
        },
        "id": "B989sZdGSvgs",
        "outputId": "088d8114-fbcd-443a-b113-ad401b4a4b50"
      },
      "execution_count": 10,
      "outputs": [
        {
          "output_type": "stream",
          "name": "stdout",
          "text": [
            "0.5\n"
          ]
        }
      ]
    },
    {
      "cell_type": "code",
      "source": [
        "import numpy as np\n",
        "\n",
        "# シグモイド関数\n",
        "def sigmoid(x):\n",
        "    return 1.0 / (1.0 + np.exp(-x))\n",
        "\n",
        "# ニューロン\n",
        "class Neuron:\n",
        "    def __init__(self):  # 初期設定\n",
        "        self.input_sum = 0.0\n",
        "        self.output = 0.0\n",
        "\n",
        "    def set_input(self, inp):\n",
        "        self.input_sum += inp\n",
        "\n",
        "    def get_output(self):\n",
        "        self.output = sigmoid(self.input_sum)\n",
        "        return self.output\n",
        "\n",
        "# ニューラルネットワーク\n",
        "class NeuralNetwork:\n",
        "    def __init__(self):  # 初期設定\n",
        "        self.neuron = Neuron()  #ニューロンのインスタンス\n",
        "        self.w = [1.5, 0.75, -1.0]\n",
        "        self.bias = 1.0\n",
        "\n",
        "    def commit(self, input_data):  # 実行\n",
        "        self.neuron.set_input(input_data[0] * self.w[0])\n",
        "        self.neuron.set_input(input_data[1] * self.w[1])\n",
        "        self.neuron.set_input(input_data[2] * self.w[2])\n",
        "        self.neuron.set_input(self.bias)\n",
        "        return self.neuron.get_output()\n",
        "\n",
        "# ニューラルネットワークのインスタンス\n",
        "neural_network = NeuralNetwork()\n",
        "\n",
        "# 実行\n",
        "input_data = [1.0, 2.0, 3.0]\n",
        "print(neural_network.commit(input_data))"
      ],
      "metadata": {
        "colab": {
          "base_uri": "https://localhost:8080/"
        },
        "id": "TZktnRdzSyVO",
        "outputId": "4870512b-faf9-4f98-8d39-620ebcd020b7"
      },
      "execution_count": 11,
      "outputs": [
        {
          "output_type": "stream",
          "name": "stdout",
          "text": [
            "0.7310585786300049\n"
          ]
        }
      ]
    }
  ]
}